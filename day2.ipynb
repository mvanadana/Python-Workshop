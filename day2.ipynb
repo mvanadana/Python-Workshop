{
 "cells": [
  {
   "cell_type": "code",
   "execution_count": 1,
   "metadata": {},
   "outputs": [
    {
     "ename": "ModuleNotFoundError",
     "evalue": "No module named 'numpy'",
     "output_type": "error",
     "traceback": [
      "\u001b[1;31m---------------------------------------------------------------------------\u001b[0m",
      "\u001b[1;31mModuleNotFoundError\u001b[0m                       Traceback (most recent call last)",
      "Cell \u001b[1;32mIn[1], line 1\u001b[0m\n\u001b[1;32m----> 1\u001b[0m \u001b[38;5;28;01mimport\u001b[39;00m \u001b[38;5;21;01mnumpy\u001b[39;00m \u001b[38;5;28;01mas\u001b[39;00m \u001b[38;5;21;01mnp\u001b[39;00m\n",
      "\u001b[1;31mModuleNotFoundError\u001b[0m: No module named 'numpy'"
     ]
    }
   ],
   "source": [
    "import numpy as np"
   ]
  },
  {
   "cell_type": "code",
   "execution_count": 3,
   "metadata": {},
   "outputs": [
    {
     "name": "stdout",
     "output_type": "stream",
     "text": [
      "Collecting numpy\n",
      "  Downloading numpy-1.26.4-cp312-cp312-win_amd64.whl.metadata (61 kB)\n",
      "     ---------------------------------------- 0.0/61.0 kB ? eta -:--:--\n",
      "     ------------ ------------------------- 20.5/61.0 kB 682.7 kB/s eta 0:00:01\n",
      "     -------------------------------------- 61.0/61.0 kB 651.3 kB/s eta 0:00:00\n",
      "Downloading numpy-1.26.4-cp312-cp312-win_amd64.whl (15.5 MB)\n",
      "   ---------------------------------------- 0.0/15.5 MB ? eta -:--:--\n",
      "   - -------------------------------------- 0.4/15.5 MB 12.2 MB/s eta 0:00:02\n",
      "   -- ------------------------------------- 1.1/15.5 MB 13.5 MB/s eta 0:00:02\n",
      "   ---- ----------------------------------- 1.7/15.5 MB 13.4 MB/s eta 0:00:02\n",
      "   ----- ---------------------------------- 2.3/15.5 MB 13.2 MB/s eta 0:00:02\n",
      "   ------ --------------------------------- 2.4/15.5 MB 10.8 MB/s eta 0:00:02\n",
      "   ------- -------------------------------- 3.0/15.5 MB 11.4 MB/s eta 0:00:02\n",
      "   -------- ------------------------------- 3.4/15.5 MB 10.8 MB/s eta 0:00:02\n",
      "   --------- ------------------------------ 3.6/15.5 MB 10.3 MB/s eta 0:00:02\n",
      "   ---------- ----------------------------- 3.9/15.5 MB 9.7 MB/s eta 0:00:02\n",
      "   ---------- ----------------------------- 4.2/15.5 MB 9.3 MB/s eta 0:00:02\n",
      "   ----------- ---------------------------- 4.4/15.5 MB 9.1 MB/s eta 0:00:02\n",
      "   ------------ --------------------------- 4.7/15.5 MB 8.5 MB/s eta 0:00:02\n",
      "   ------------- -------------------------- 5.1/15.5 MB 8.5 MB/s eta 0:00:02\n",
      "   ------------- -------------------------- 5.4/15.5 MB 8.4 MB/s eta 0:00:02\n",
      "   -------------- ------------------------- 5.7/15.5 MB 8.2 MB/s eta 0:00:02\n",
      "   --------------- ------------------------ 5.9/15.5 MB 8.1 MB/s eta 0:00:02\n",
      "   ---------------- ----------------------- 6.2/15.5 MB 7.9 MB/s eta 0:00:02\n",
      "   ---------------- ----------------------- 6.5/15.5 MB 7.8 MB/s eta 0:00:02\n",
      "   ----------------- ---------------------- 6.8/15.5 MB 7.7 MB/s eta 0:00:02\n",
      "   ------------------ --------------------- 7.0/15.5 MB 7.6 MB/s eta 0:00:02\n",
      "   ------------------ --------------------- 7.1/15.5 MB 7.3 MB/s eta 0:00:02\n",
      "   ------------------- -------------------- 7.5/15.5 MB 7.3 MB/s eta 0:00:02\n",
      "   -------------------- ------------------- 7.9/15.5 MB 7.4 MB/s eta 0:00:02\n",
      "   --------------------- ------------------ 8.2/15.5 MB 7.4 MB/s eta 0:00:01\n",
      "   --------------------- ------------------ 8.4/15.5 MB 7.3 MB/s eta 0:00:01\n",
      "   ---------------------- ----------------- 8.6/15.5 MB 7.2 MB/s eta 0:00:01\n",
      "   ----------------------- ---------------- 9.0/15.5 MB 7.2 MB/s eta 0:00:01\n",
      "   ------------------------ --------------- 9.3/15.5 MB 7.2 MB/s eta 0:00:01\n",
      "   ------------------------ --------------- 9.6/15.5 MB 7.1 MB/s eta 0:00:01\n",
      "   ------------------------- -------------- 9.9/15.5 MB 7.1 MB/s eta 0:00:01\n",
      "   -------------------------- ------------- 10.2/15.5 MB 7.1 MB/s eta 0:00:01\n",
      "   -------------------------- ------------- 10.5/15.5 MB 7.0 MB/s eta 0:00:01\n",
      "   --------------------------- ------------ 10.7/15.5 MB 6.9 MB/s eta 0:00:01\n",
      "   ---------------------------- ----------- 11.0/15.5 MB 6.7 MB/s eta 0:00:01\n",
      "   ----------------------------- ---------- 11.3/15.5 MB 6.6 MB/s eta 0:00:01\n",
      "   ----------------------------- ---------- 11.6/15.5 MB 6.5 MB/s eta 0:00:01\n",
      "   ------------------------------ --------- 11.8/15.5 MB 6.5 MB/s eta 0:00:01\n",
      "   ------------------------------- -------- 12.1/15.5 MB 6.4 MB/s eta 0:00:01\n",
      "   ------------------------------- -------- 12.4/15.5 MB 6.2 MB/s eta 0:00:01\n",
      "   -------------------------------- ------- 12.7/15.5 MB 6.4 MB/s eta 0:00:01\n",
      "   --------------------------------- ------ 12.9/15.5 MB 6.2 MB/s eta 0:00:01\n",
      "   ---------------------------------- ----- 13.2/15.5 MB 6.1 MB/s eta 0:00:01\n",
      "   ---------------------------------- ----- 13.5/15.5 MB 6.1 MB/s eta 0:00:01\n",
      "   ----------------------------------- ---- 13.8/15.5 MB 6.1 MB/s eta 0:00:01\n",
      "   ------------------------------------ --- 14.1/15.5 MB 6.1 MB/s eta 0:00:01\n",
      "   ------------------------------------- -- 14.4/15.5 MB 6.1 MB/s eta 0:00:01\n",
      "   ------------------------------------- -- 14.6/15.5 MB 6.1 MB/s eta 0:00:01\n",
      "   -------------------------------------- - 14.9/15.5 MB 6.2 MB/s eta 0:00:01\n",
      "   ---------------------------------------  15.2/15.5 MB 6.1 MB/s eta 0:00:01\n",
      "   ---------------------------------------  15.5/15.5 MB 6.1 MB/s eta 0:00:01\n",
      "   ---------------------------------------  15.5/15.5 MB 6.1 MB/s eta 0:00:01\n",
      "   ---------------------------------------  15.5/15.5 MB 6.1 MB/s eta 0:00:01\n",
      "   ---------------------------------------- 15.5/15.5 MB 5.8 MB/s eta 0:00:00\n",
      "Installing collected packages: numpy\n",
      "Successfully installed numpy-1.26.4\n",
      "Note: you may need to restart the kernel to use updated packages.\n"
     ]
    },
    {
     "name": "stderr",
     "output_type": "stream",
     "text": [
      "  WARNING: The script f2py.exe is installed in 'c:\\Users\\Vandana Mishra\\AppData\\Local\\Programs\\Python\\Python312\\Scripts' which is not on PATH.\n",
      "  Consider adding this directory to PATH or, if you prefer to suppress this warning, use --no-warn-script-location.\n"
     ]
    }
   ],
   "source": [
    "pip install numpy"
   ]
  },
  {
   "cell_type": "code",
   "execution_count": 4,
   "metadata": {},
   "outputs": [],
   "source": [
    "import numpy as np"
   ]
  },
  {
   "cell_type": "code",
   "execution_count": 9,
   "metadata": {},
   "outputs": [
    {
     "name": "stdout",
     "output_type": "stream",
     "text": [
      "[1 2 3 4 5]\n"
     ]
    }
   ],
   "source": [
    "a = np.array([1, 2, 3, 4, 5])\n",
    "print(a)"
   ]
  },
  {
   "cell_type": "code",
   "execution_count": 10,
   "metadata": {},
   "outputs": [
    {
     "data": {
      "text/plain": [
       "array([[ 1,  2,  3,  4,  5],\n",
       "       [ 6,  7,  8,  9, 10]])"
      ]
     },
     "execution_count": 10,
     "metadata": {},
     "output_type": "execute_result"
    }
   ],
   "source": [
    "a = np.array([[1, 2, 3, 4, 5],[6,7,8,9,10]])\n",
    "a"
   ]
  },
  {
   "cell_type": "code",
   "execution_count": 11,
   "metadata": {},
   "outputs": [
    {
     "name": "stdout",
     "output_type": "stream",
     "text": [
      "Collecting pandas\n",
      "  Downloading pandas-2.2.0-cp312-cp312-win_amd64.whl.metadata (19 kB)\n",
      "Requirement already satisfied: numpy<2,>=1.26.0 in c:\\users\\vandana mishra\\appdata\\local\\programs\\python\\python312\\lib\\site-packages (from pandas) (1.26.4)\n",
      "Requirement already satisfied: python-dateutil>=2.8.2 in c:\\users\\vandana mishra\\appdata\\roaming\\python\\python312\\site-packages (from pandas) (2.8.2)\n",
      "Collecting pytz>=2020.1 (from pandas)\n",
      "  Downloading pytz-2024.1-py2.py3-none-any.whl.metadata (22 kB)\n",
      "Collecting tzdata>=2022.7 (from pandas)\n",
      "  Downloading tzdata-2024.1-py2.py3-none-any.whl.metadata (1.4 kB)\n",
      "Requirement already satisfied: six>=1.5 in c:\\users\\vandana mishra\\appdata\\roaming\\python\\python312\\site-packages (from python-dateutil>=2.8.2->pandas) (1.16.0)\n",
      "Downloading pandas-2.2.0-cp312-cp312-win_amd64.whl (11.5 MB)\n",
      "   ---------------------------------------- 0.0/11.5 MB ? eta -:--:--\n",
      "   - -------------------------------------- 0.4/11.5 MB 12.9 MB/s eta 0:00:01\n",
      "   ----- ---------------------------------- 1.5/11.5 MB 19.0 MB/s eta 0:00:01\n",
      "   ------- -------------------------------- 2.1/11.5 MB 19.0 MB/s eta 0:00:01\n",
      "   ------- -------------------------------- 2.1/11.5 MB 19.0 MB/s eta 0:00:01\n",
      "   ------- -------------------------------- 2.1/11.5 MB 19.0 MB/s eta 0:00:01\n",
      "   ------- -------------------------------- 2.1/11.5 MB 19.0 MB/s eta 0:00:01\n",
      "   ------- -------------------------------- 2.1/11.5 MB 19.0 MB/s eta 0:00:01\n",
      "   ------- -------------------------------- 2.1/11.5 MB 19.0 MB/s eta 0:00:01\n",
      "   -------- ------------------------------- 2.4/11.5 MB 5.8 MB/s eta 0:00:02\n",
      "   ----------- ---------------------------- 3.3/11.5 MB 7.3 MB/s eta 0:00:02\n",
      "   ------------- -------------------------- 4.0/11.5 MB 8.0 MB/s eta 0:00:01\n",
      "   -------------- ------------------------- 4.3/11.5 MB 8.3 MB/s eta 0:00:01\n",
      "   ---------------- ----------------------- 4.7/11.5 MB 7.9 MB/s eta 0:00:01\n",
      "   ----------------- ---------------------- 5.1/11.5 MB 7.9 MB/s eta 0:00:01\n",
      "   ------------------ --------------------- 5.4/11.5 MB 7.9 MB/s eta 0:00:01\n",
      "   ------------------- -------------------- 5.5/11.5 MB 7.8 MB/s eta 0:00:01\n",
      "   -------------------- ------------------- 5.8/11.5 MB 7.6 MB/s eta 0:00:01\n",
      "   --------------------- ------------------ 6.2/11.5 MB 7.5 MB/s eta 0:00:01\n",
      "   ---------------------- ----------------- 6.5/11.5 MB 7.5 MB/s eta 0:00:01\n",
      "   ----------------------- ---------------- 6.6/11.5 MB 7.3 MB/s eta 0:00:01\n",
      "   ------------------------ --------------- 6.9/11.5 MB 7.3 MB/s eta 0:00:01\n",
      "   ------------------------- -------------- 7.2/11.5 MB 7.2 MB/s eta 0:00:01\n",
      "   -------------------------- ------------- 7.6/11.5 MB 7.3 MB/s eta 0:00:01\n",
      "   --------------------------- ------------ 7.9/11.5 MB 7.2 MB/s eta 0:00:01\n",
      "   ---------------------------- ----------- 8.2/11.5 MB 7.1 MB/s eta 0:00:01\n",
      "   ----------------------------- ---------- 8.5/11.5 MB 7.1 MB/s eta 0:00:01\n",
      "   ------------------------------ --------- 8.8/11.5 MB 7.0 MB/s eta 0:00:01\n",
      "   ------------------------------- -------- 9.1/11.5 MB 7.0 MB/s eta 0:00:01\n",
      "   -------------------------------- ------- 9.3/11.5 MB 7.0 MB/s eta 0:00:01\n",
      "   --------------------------------- ------ 9.5/11.5 MB 6.9 MB/s eta 0:00:01\n",
      "   --------------------------------- ------ 9.6/11.5 MB 6.8 MB/s eta 0:00:01\n",
      "   ---------------------------------- ----- 9.8/11.5 MB 6.7 MB/s eta 0:00:01\n",
      "   ----------------------------------- ---- 10.2/11.5 MB 6.7 MB/s eta 0:00:01\n",
      "   ------------------------------------- -- 10.6/11.5 MB 6.7 MB/s eta 0:00:01\n",
      "   -------------------------------------- - 11.0/11.5 MB 6.6 MB/s eta 0:00:01\n",
      "   -------------------------------------- - 11.1/11.5 MB 6.5 MB/s eta 0:00:01\n",
      "   ---------------------------------------  11.5/11.5 MB 6.3 MB/s eta 0:00:01\n",
      "   ---------------------------------------  11.5/11.5 MB 6.3 MB/s eta 0:00:01\n",
      "   ---------------------------------------- 11.5/11.5 MB 6.1 MB/s eta 0:00:00\n",
      "Downloading pytz-2024.1-py2.py3-none-any.whl (505 kB)\n",
      "   ---------------------------------------- 0.0/505.5 kB ? eta -:--:--\n",
      "   --------------------- ------------------ 276.5/505.5 kB 8.6 MB/s eta 0:00:01\n",
      "   ---------------------------------------  501.8/505.5 kB 6.3 MB/s eta 0:00:01\n",
      "   ---------------------------------------- 505.5/505.5 kB 5.3 MB/s eta 0:00:00\n",
      "Downloading tzdata-2024.1-py2.py3-none-any.whl (345 kB)\n",
      "   ---------------------------------------- 0.0/345.4 kB ? eta -:--:--\n",
      "   --------------------------------- ------ 286.7/345.4 kB 8.6 MB/s eta 0:00:01\n",
      "   ---------------------------------------- 345.4/345.4 kB 5.3 MB/s eta 0:00:00\n",
      "Installing collected packages: pytz, tzdata, pandas\n",
      "Successfully installed pandas-2.2.0 pytz-2024.1 tzdata-2024.1\n",
      "Note: you may need to restart the kernel to use updated packages.\n"
     ]
    }
   ],
   "source": [
    "pip install pandas"
   ]
  },
  {
   "cell_type": "code",
   "execution_count": 12,
   "metadata": {},
   "outputs": [
    {
     "name": "stdout",
     "output_type": "stream",
     "text": [
      "(2, 5)\n"
     ]
    }
   ],
   "source": [
    "print (a.shape)"
   ]
  },
  {
   "cell_type": "code",
   "execution_count": 14,
   "metadata": {},
   "outputs": [],
   "source": [
    "b = a.reshape(2,5)"
   ]
  },
  {
   "cell_type": "code",
   "execution_count": 15,
   "metadata": {},
   "outputs": [
    {
     "data": {
      "text/plain": [
       "array([[ 1,  2,  3,  4,  5],\n",
       "       [ 6,  7,  8,  9, 10]])"
      ]
     },
     "execution_count": 15,
     "metadata": {},
     "output_type": "execute_result"
    }
   ],
   "source": [
    "b"
   ]
  },
  {
   "cell_type": "code",
   "execution_count": 16,
   "metadata": {},
   "outputs": [
    {
     "data": {
      "text/plain": [
       "array([ 0,  1,  2,  3,  4,  5,  6,  7,  8,  9, 10, 11, 12, 13, 14, 15, 16,\n",
       "       17, 18, 19, 20, 21, 22, 23])"
      ]
     },
     "execution_count": 16,
     "metadata": {},
     "output_type": "execute_result"
    }
   ],
   "source": [
    "a = np.arange(24)\n",
    "a"
   ]
  },
  {
   "cell_type": "code",
   "execution_count": 17,
   "metadata": {},
   "outputs": [
    {
     "data": {
      "text/plain": [
       "array([0., 0., 0., 0., 0.])"
      ]
     },
     "execution_count": 17,
     "metadata": {},
     "output_type": "execute_result"
    }
   ],
   "source": [
    "x=np.zeros(5)\n",
    "x"
   ]
  },
  {
   "cell_type": "code",
   "execution_count": 18,
   "metadata": {},
   "outputs": [
    {
     "name": "stdout",
     "output_type": "stream",
     "text": [
      "<class 'numpy.ndarray'>\n"
     ]
    }
   ],
   "source": [
    "print(type(x))"
   ]
  },
  {
   "cell_type": "code",
   "execution_count": 20,
   "metadata": {},
   "outputs": [
    {
     "data": {
      "text/plain": [
       "array([[1, 1, 1],\n",
       "       [1, 1, 1]])"
      ]
     },
     "execution_count": 20,
     "metadata": {},
     "output_type": "execute_result"
    }
   ],
   "source": [
    "x=np.ones([2,3],dtype =\"int\")\n",
    "x"
   ]
  },
  {
   "cell_type": "code",
   "execution_count": 21,
   "metadata": {},
   "outputs": [],
   "source": [
    "a=np.array([[1,2,3],[4,5,6]])\n",
    "reshape_a = a.reshape(3,2)\n"
   ]
  },
  {
   "cell_type": "code",
   "execution_count": 24,
   "metadata": {},
   "outputs": [
    {
     "name": "stdout",
     "output_type": "stream",
     "text": [
      "[[1 4]\n",
      " [2 5]\n",
      " [3 6]]\n"
     ]
    }
   ],
   "source": [
    "transpose_a = a.transpose()\n",
    "print(transpose_a)"
   ]
  },
  {
   "cell_type": "code",
   "execution_count": 29,
   "metadata": {},
   "outputs": [
    {
     "name": "stdout",
     "output_type": "stream",
     "text": [
      "[ 0  2  4  6  8 10 12 14 16 18 20 22]\n"
     ]
    }
   ],
   "source": [
    "a = np.arange(0,24,2)\n",
    "print(a)"
   ]
  },
  {
   "cell_type": "code",
   "execution_count": 30,
   "metadata": {},
   "outputs": [
    {
     "data": {
      "text/plain": [
       "array([10, 12, 14, 16, 18])"
      ]
     },
     "execution_count": 30,
     "metadata": {},
     "output_type": "execute_result"
    }
   ],
   "source": [
    "a=np.arange(10,20,2)\n",
    "a"
   ]
  },
  {
   "cell_type": "code",
   "execution_count": 32,
   "metadata": {},
   "outputs": [
    {
     "data": {
      "text/plain": [
       "array([10. , 12.5, 15. , 17.5, 20. ])"
      ]
     },
     "execution_count": 32,
     "metadata": {},
     "output_type": "execute_result"
    }
   ],
   "source": [
    "x=np.linspace(10,20,5)\n",
    "x"
   ]
  },
  {
   "cell_type": "code",
   "execution_count": 7,
   "metadata": {},
   "outputs": [],
   "source": [
    "nums = [7,5,7,2]\n",
    "target = 9\n",
    "def sumtwo( nums,target):\n",
    "    for i in range(len(nums)):\n",
    "        for j in range(len(nums)):\n",
    "            if i!= j:\n",
    "                if(nums[i]+nums[j] == target):\n",
    "                    return list([i,j])"
   ]
  },
  {
   "cell_type": "code",
   "execution_count": 8,
   "metadata": {},
   "outputs": [
    {
     "name": "stdout",
     "output_type": "stream",
     "text": [
      "[0, 3]\n"
     ]
    }
   ],
   "source": [
    "print(sumtwo(nums,target))\n"
   ]
  },
  {
   "cell_type": "code",
   "execution_count": 1,
   "metadata": {},
   "outputs": [
    {
     "name": "stdout",
     "output_type": "stream",
     "text": [
      "12\n"
     ]
    },
    {
     "ename": "TypeError",
     "evalue": "object of type 'int' has no len()",
     "output_type": "error",
     "traceback": [
      "\u001b[1;31m---------------------------------------------------------------------------\u001b[0m",
      "\u001b[1;31mTypeError\u001b[0m                                 Traceback (most recent call last)",
      "Cell \u001b[1;32mIn[1], line 4\u001b[0m\n\u001b[0;32m      2\u001b[0m x\u001b[38;5;241m=\u001b[39m \u001b[38;5;28mint\u001b[39m(\u001b[38;5;241m121\u001b[39m\u001b[38;5;241m/\u001b[39m\u001b[38;5;241m10\u001b[39m)\n\u001b[0;32m      3\u001b[0m \u001b[38;5;28mprint\u001b[39m(x)\n\u001b[1;32m----> 4\u001b[0m \u001b[38;5;28mprint\u001b[39m(\u001b[38;5;28;43mlen\u001b[39;49m\u001b[43m(\u001b[49m\u001b[43mx\u001b[49m\u001b[43m)\u001b[49m)\n",
      "\u001b[1;31mTypeError\u001b[0m: object of type 'int' has no len()"
     ]
    }
   ],
   "source": [
    "a=121%10\n",
    "x= int(121/10)\n",
    "print(x)\n",
    "print(len(x))"
   ]
  }
 ],
 "metadata": {
  "kernelspec": {
   "display_name": "Python 3",
   "language": "python",
   "name": "python3"
  },
  "language_info": {
   "codemirror_mode": {
    "name": "ipython",
    "version": 3
   },
   "file_extension": ".py",
   "mimetype": "text/x-python",
   "name": "python",
   "nbconvert_exporter": "python",
   "pygments_lexer": "ipython3",
   "version": "3.12.2"
  }
 },
 "nbformat": 4,
 "nbformat_minor": 2
}
